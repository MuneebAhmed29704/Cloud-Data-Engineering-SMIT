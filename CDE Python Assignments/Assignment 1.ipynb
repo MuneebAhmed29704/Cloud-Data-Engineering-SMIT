{
 "cells": [
  {
   "cell_type": "markdown",
   "id": "9583656c-3004-4b75-a0c6-392aa72d3856",
   "metadata": {},
   "source": [
    "## Assignment 1"
   ]
  },
  {
   "cell_type": "markdown",
   "id": "61cb6f71-2518-49e0-91a4-7aaaffea4816",
   "metadata": {},
   "source": [
    "### Python Basics (Variables)"
   ]
  },
  {
   "cell_type": "markdown",
   "id": "c9413014-45aa-4fa0-ade8-be8372da1648",
   "metadata": {},
   "source": [
    "#### 1. Print Your Name with your Father name and Date of birth using suitable escape sequence character"
   ]
  },
  {
   "cell_type": "code",
   "execution_count": 6,
   "id": "1fbfb900-37ec-41c3-8be2-3ce165cda501",
   "metadata": {},
   "outputs": [
    {
     "name": "stdout",
     "output_type": "stream",
     "text": [
      "Muneeb Ahmed\n",
      "Ishtiaq Ahmed\n",
      "29-07-2004\n"
     ]
    }
   ],
   "source": [
    " print(\"Muneeb Ahmed\\nIshtiaq Ahmed\\n29-07-2004\")"
   ]
  },
  {
   "cell_type": "markdown",
   "id": "00aa84e2-1a3b-4456-8009-6f912c557ffc",
   "metadata": {},
   "source": [
    "#### 2. Write your small bio using variables and print it using print function"
   ]
  },
  {
   "cell_type": "code",
   "execution_count": 20,
   "id": "3210bac1-62c1-4974-87df-226480baedaa",
   "metadata": {},
   "outputs": [
    {
     "name": "stdout",
     "output_type": "stream",
     "text": [
      "Muneeb Ahmed \n",
      " 21 \n",
      " 53\n"
     ]
    }
   ],
   "source": [
    "Name = \"Muneeb Ahmed\"\n",
    "Age = 21\n",
    "Weight = 53\n",
    "\n",
    "print(Name,\"\\n\",Age,\"\\n\",Weight)"
   ]
  },
  {
   "cell_type": "markdown",
   "id": "2ddde97a-921c-4a82-8473-7bbdb173af15",
   "metadata": {},
   "source": [
    "#### 3. Write a program in which use all the operators we can use in Python"
   ]
  },
  {
   "cell_type": "code",
   "execution_count": 31,
   "id": "aef5773b-525a-4dea-835b-cfa45a44ace2",
   "metadata": {},
   "outputs": [],
   "source": [
    "a=10\n",
    "b=15\n"
   ]
  },
  {
   "cell_type": "code",
   "execution_count": 40,
   "id": "7fc8a08d-35f7-49e4-939f-e2ab496dad58",
   "metadata": {},
   "outputs": [
    {
     "name": "stdout",
     "output_type": "stream",
     "text": [
      "a + b = 25\n",
      "b - a = 5\n",
      "b / a = 1.5\n",
      "a % b = 10\n",
      "a * b = 150\n",
      "a ** b = 1000000000000000\n",
      "b // a = 1\n"
     ]
    }
   ],
   "source": [
    "print(\"a + b =\",a + b)\n",
    "print(\"b - a =\",b - a)\n",
    "print(\"b / a =\",b / a)\n",
    "print(\"a % b =\",a % b)\n",
    "print(\"a * b =\",a * b)\n",
    "print(\"a ** b =\",a ** b)\n",
    "print(\"b // a =\",b // a)"
   ]
  },
  {
   "cell_type": "code",
   "execution_count": 42,
   "id": "cc8793f5-ce1d-4b5f-affc-a58520dcd521",
   "metadata": {},
   "outputs": [
    {
     "name": "stdout",
     "output_type": "stream",
     "text": [
      "a == b = False\n",
      "a != b = True\n",
      "a < b = True\n",
      "a > b = False\n",
      "a <= b = True\n",
      "a >= b = False\n"
     ]
    }
   ],
   "source": [
    "print(\"a == b =\",a==b)\n",
    "print(\"a != b =\",a!=b)\n",
    "print(\"a < b =\",a<b)\n",
    "print(\"a > b =\",a>b)\n",
    "print(\"a <= b =\",a<=b)\n",
    "print(\"a >= b =\",a>=b)\n",
    "\n",
    "     "
   ]
  },
  {
   "cell_type": "code",
   "execution_count": 66,
   "id": "9260cde0-b5ad-4eaa-9b7d-28fccbc1512c",
   "metadata": {},
   "outputs": [
    {
     "name": "stdout",
     "output_type": "stream",
     "text": [
      "x = 10\n",
      "x += 15\n",
      "x -= 9\n",
      "x *= 18\n",
      "x /= 9.0\n",
      "x %= 1.0\n",
      "x //= 0.0\n",
      "x **= 0.0\n"
     ]
    }
   ],
   "source": [
    "x = 10\n",
    "print(\"x =\", x)\n",
    "x += 5\n",
    "print(\"x +=\" , x)\n",
    "x -= 6\n",
    "print(\"x -=\" ,x)\n",
    "x *= 2\n",
    "print(\"x *=\" ,x)\n",
    "x /= 2\n",
    "print(\"x /=\" ,x)\n",
    "x %= 2\n",
    "print(\"x %=\" ,x)\n",
    "x //= 2\n",
    "print(\"x //=\" ,x)\n",
    "x **= 2\n",
    "print(\"x **=\" ,x)"
   ]
  },
  {
   "cell_type": "markdown",
   "id": "3f984185-b14b-4ad1-ab60-027e490febaf",
   "metadata": {},
   "source": [
    "#### 4. Completes the following steps of small task:\n",
    "- Mention Marks of English , Islamiat and Maths out of 100 in 3 different variables\n",
    "- Mention Variable of Total Marks and assign 300 to it\n",
    "- Calculate Percentage"
   ]
  },
  {
   "cell_type": "code",
   "execution_count": 83,
   "id": "39768434-986e-4b26-bf60-7aa17be3cac4",
   "metadata": {},
   "outputs": [],
   "source": [
    "English = 72\n",
    "Islamiat = 83\n",
    "Maths = 92\n",
    "Total_Marks = 300"
   ]
  },
  {
   "cell_type": "code",
   "execution_count": 82,
   "id": "e713c1e2-35fa-48ab-ae1c-fb03e642f49c",
   "metadata": {},
   "outputs": [],
   "source": [
    "Obtain_Marks = English+Islamiat+Maths"
   ]
  },
  {
   "cell_type": "code",
   "execution_count": 85,
   "id": "54fd1be7-7af1-46d9-887f-0d4633f90aa4",
   "metadata": {},
   "outputs": [
    {
     "name": "stdout",
     "output_type": "stream",
     "text": [
      "82.33333333333334\n"
     ]
    }
   ],
   "source": [
    "print(Obtain_Marks/Total_Marks*100)"
   ]
  },
  {
   "cell_type": "code",
   "execution_count": null,
   "id": "82466dc3-f666-4ded-8c13-3904055b5b6e",
   "metadata": {},
   "outputs": [],
   "source": []
  }
 ],
 "metadata": {
  "kernelspec": {
   "display_name": "Python 3 (ipykernel)",
   "language": "python",
   "name": "python3"
  },
  "language_info": {
   "codemirror_mode": {
    "name": "ipython",
    "version": 3
   },
   "file_extension": ".py",
   "mimetype": "text/x-python",
   "name": "python",
   "nbconvert_exporter": "python",
   "pygments_lexer": "ipython3",
   "version": "3.13.5"
  }
 },
 "nbformat": 4,
 "nbformat_minor": 5
}
