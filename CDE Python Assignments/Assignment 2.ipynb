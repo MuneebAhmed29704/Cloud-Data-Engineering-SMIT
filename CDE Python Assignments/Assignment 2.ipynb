{
 "cells": [
  {
   "cell_type": "markdown",
   "id": "37f7a558-21a1-4698-ba8d-3fa1f154acf1",
   "metadata": {},
   "source": [
    "## Assignment 2"
   ]
  },
  {
   "cell_type": "markdown",
   "id": "2fa9918e-f2d3-418b-9a4f-aad1aa24a7c0",
   "metadata": {},
   "source": [
    "### Conditional Statements"
   ]
  },
  {
   "cell_type": "markdown",
   "id": "d994a526-4a97-49d3-a3db-a6f73e2dacce",
   "metadata": {},
   "source": [
    "#### 1. A company decided to give bonus of 5% to employee if his/her year of service is more than 5 years. Ask user for their salary and year of service and print the net bonus amount."
   ]
  },
  {
   "cell_type": "code",
   "execution_count": 10,
   "id": "46411ba0-6d95-4c8a-bd0d-49ace673b13b",
   "metadata": {},
   "outputs": [
    {
     "name": "stdin",
     "output_type": "stream",
     "text": [
      "Enter your salary =  50000\n",
      "Enter your year of service =  6\n"
     ]
    },
    {
     "name": "stdout",
     "output_type": "stream",
     "text": [
      "Congratulation! You got your Bonus\n",
      "your updated salary is =  52500.0\n"
     ]
    }
   ],
   "source": [
    "user_salary = int(input(\"Enter your salary = \"))\n",
    "year_of_service = int(input(\"Enter your year of service = \"))\n",
    "if year_of_service > 5:\n",
    "    bonus=user_salary*0.05\n",
    "    print(\"Congratulation! You got your Bonus\")\n",
    "    print(\"your updated salary is = \",user_salary+bonus)\n",
    "else:\n",
    "    print(\"your year of service is less than 5 years\")\n",
    "                      "
   ]
  },
  {
   "cell_type": "markdown",
   "id": "549319be-3ea7-4978-9f5d-6f2be45db7cd",
   "metadata": {},
   "source": [
    "#### 2. Write a program to check whether a person is eligible for voting or not. (accept age from user) if age is greater than 17 eligible otherwise not eligible"
   ]
  },
  {
   "cell_type": "code",
   "execution_count": 13,
   "id": "4b967e96-5163-4283-bf64-3f965bf39245",
   "metadata": {},
   "outputs": [
    {
     "name": "stdin",
     "output_type": "stream",
     "text": [
      "Enter your age =  13\n"
     ]
    },
    {
     "name": "stdout",
     "output_type": "stream",
     "text": [
      "you are not eligible for voting\n"
     ]
    }
   ],
   "source": [
    "age = int(input(\"Enter your age = \"))\n",
    "if age > 17:\n",
    "    print(\"you are eligible for voting\")\n",
    "else:\n",
    "    print(\"you are not eligible for voting\")"
   ]
  },
  {
   "cell_type": "markdown",
   "id": "844e3e49-1647-46a6-9bd4-c3a65fde26ce",
   "metadata": {},
   "source": [
    "#### 3. Write a program to check whether a number entered by user is even or odd."
   ]
  },
  {
   "cell_type": "code",
   "execution_count": 24,
   "id": "16f48d07-7294-4805-95b3-47e76eec3d03",
   "metadata": {},
   "outputs": [
    {
     "name": "stdin",
     "output_type": "stream",
     "text": [
      "Enter a number =  1\n"
     ]
    },
    {
     "name": "stdout",
     "output_type": "stream",
     "text": [
      "number 1 is odd\n"
     ]
    }
   ],
   "source": [
    "even_odd = int(input(\"Enter a number = \"))\n",
    "if even_odd %2==0:\n",
    "    print(f\"number {even_odd} is even\")\n",
    "else:\n",
    "    print(f\"number {even_odd} is odd\")\n",
    "                   \n",
    "            \n",
    "               \n"
   ]
  },
  {
   "cell_type": "markdown",
   "id": "d2a31afe-3371-434d-8284-d4199ecad461",
   "metadata": {},
   "source": [
    "#### 4. Write a program to check whether a number is divisible by 7 or not. Show Answer"
   ]
  },
  {
   "cell_type": "code",
   "execution_count": 34,
   "id": "6526cbe0-5d0d-43df-8f18-4e77f9577a65",
   "metadata": {},
   "outputs": [
    {
     "name": "stdin",
     "output_type": "stream",
     "text": [
      "Enter a number :  3\n"
     ]
    },
    {
     "name": "stdout",
     "output_type": "stream",
     "text": [
      "The number 3  is not divisible by 7\n"
     ]
    }
   ],
   "source": [
    "num=int(input(\"Enter a number : \"))\n",
    "if num % 7==0:\n",
    "    print(f\"The number {num}  is divisible by 7\")\n",
    "else:\n",
    "    print(f\"The number {num}  is not divisible by 7\")\n"
   ]
  },
  {
   "cell_type": "markdown",
   "id": "e98c0764-a658-4a81-9c1b-4a35704eef74",
   "metadata": {},
   "source": [
    "#### 5. Write a program to display \"Hello\" if a number entered by user is a multiple of five , otherwise print \"Bye\"."
   ]
  },
  {
   "cell_type": "code",
   "execution_count": 37,
   "id": "2161a49d-a075-494b-ae3e-018fdc3ee983",
   "metadata": {},
   "outputs": [
    {
     "name": "stdin",
     "output_type": "stream",
     "text": [
      "Enter a number=  20\n"
     ]
    },
    {
     "name": "stdout",
     "output_type": "stream",
     "text": [
      "Hello\n"
     ]
    }
   ],
   "source": [
    "number=int(input(\"Enter a number= \"))\n",
    "if number % 5 == 0:\n",
    "    print(\"Hello\")\n",
    "else:\n",
    "    print(\"bye\")"
   ]
  },
  {
   "cell_type": "markdown",
   "id": "0da84157-0df6-47f8-90b8-56b3c0d30332",
   "metadata": {},
   "source": [
    "#### 6. Write a program to display the last digit of a number."
   ]
  },
  {
   "cell_type": "code",
   "execution_count": 40,
   "id": "9f782eaa-97fe-42c2-9222-8d349d4f78e9",
   "metadata": {},
   "outputs": [
    {
     "name": "stdin",
     "output_type": "stream",
     "text": [
      "Enter any number =  1\n"
     ]
    },
    {
     "name": "stdout",
     "output_type": "stream",
     "text": [
      "the last digit is 1\n"
     ]
    }
   ],
   "source": [
    "number=int(input(\"Enter any number = \"))\n",
    "last_digit = number % 10\n",
    "print(\"the last digit is\",last_digit)\n",
    "            "
   ]
  },
  {
   "cell_type": "markdown",
   "id": "f3df0f9f-a3ec-4d17-b514-90e8af1df034",
   "metadata": {},
   "source": [
    "#### 7. Take values of length and breadth of a rectangle from user and print if it is square or rectangle."
   ]
  },
  {
   "cell_type": "code",
   "execution_count": 45,
   "id": "baea1463-9ee2-4727-af15-1410a3b7ca25",
   "metadata": {},
   "outputs": [
    {
     "name": "stdin",
     "output_type": "stream",
     "text": [
      "Enter a length =  30\n",
      "Enter a Breadth =  20\n"
     ]
    },
    {
     "name": "stdout",
     "output_type": "stream",
     "text": [
      "it is rectangel\n"
     ]
    }
   ],
   "source": [
    "length=int(input(\"Enter a length = \"))\n",
    "breadth=int(input(\"Enter a Breadth = \"))\n",
    "if length == breadth:\n",
    "    print(\"it is a square\")\n",
    "else:\n",
    "    print(\"it is rectangel\")"
   ]
  },
  {
   "cell_type": "markdown",
   "id": "7ff960eb-002f-491e-856d-5b4ec3c4f46a",
   "metadata": {},
   "source": [
    "#### 8. Take two int values from user and print greatest among them."
   ]
  },
  {
   "cell_type": "code",
   "execution_count": 51,
   "id": "352c632c-ec15-428a-a83d-d1bb2e20425c",
   "metadata": {},
   "outputs": [
    {
     "name": "stdin",
     "output_type": "stream",
     "text": [
      "Enter a first number :  60\n",
      "Enter a second number :  60\n"
     ]
    },
    {
     "name": "stdout",
     "output_type": "stream",
     "text": [
      "both numbers are equal\n"
     ]
    }
   ],
   "source": [
    "num1=int(input(\"Enter a first number : \"))\n",
    "num2=int(input(\"Enter a second number : \"))\n",
    "if num1 > num2:\n",
    "    print(f\"Greatest number is : {num1}\")\n",
    "elif num2 > num1:\n",
    "    print(f\"Greatest number is : {num2}\")\n",
    "else:\n",
    "    print(\"both numbers are equal\")           "
   ]
  },
  {
   "cell_type": "markdown",
   "id": "92b8bc1f-6d34-4f3d-adce-f88ad8a0ae3f",
   "metadata": {},
   "source": [
    "#### 9. A shop will give discount of 10% if the cost of purchased quantity is more than 1000. Ask user for quantity Suppose, one unit will cost 100. Judge and print total cost for user."
   ]
  },
  {
   "cell_type": "code",
   "execution_count": 16,
   "id": "c0c98dce-3c04-4ec1-a21b-48f9e09ff3ba",
   "metadata": {},
   "outputs": [
    {
     "name": "stdin",
     "output_type": "stream",
     "text": [
      "Enter a quantity =  20\n"
     ]
    },
    {
     "name": "stdout",
     "output_type": "stream",
     "text": [
      "you will get discount\n",
      "after discount your total cost is 1800.0\n"
     ]
    }
   ],
   "source": [
    "quantity=int(input(\"Enter a quantity = \"))\n",
    "one_unit=100\n",
    "total_cost=quantity*one_unit\n",
    "if total_cost > 1000:\n",
    "    discount=total_cost*0.10\n",
    "    discount_cost=total_cost-discount\n",
    "    print(\"you will get discount\")\n",
    "    print(f\"after discount your total cost is {discount_cost}\")\n",
    "else:\n",
    "    print(f\"your total amount is {total_cost}\")"
   ]
  },
  {
   "cell_type": "markdown",
   "id": "f260842f-2021-40cd-8b1a-ee4be80d1671",
   "metadata": {},
   "source": [
    "#### 10. A school has following rules for grading system:\n",
    "- Below 25 - F\n",
    "- 25 to 45 - E\n",
    "- 45 to 50 - D\n",
    "- 50 to 60 - C\n",
    "- 60 to 80 - B\n",
    "- Above 80 - A\n",
    "Ask user to enter marks and print the corresponding grade."
   ]
  },
  {
   "cell_type": "code",
   "execution_count": 37,
   "id": "785f7f06-9a6e-4ef3-a2c0-99c04c4049f9",
   "metadata": {},
   "outputs": [
    {
     "name": "stdin",
     "output_type": "stream",
     "text": [
      "Enter your marks :  20\n"
     ]
    },
    {
     "name": "stdout",
     "output_type": "stream",
     "text": [
      "u are fail\n"
     ]
    }
   ],
   "source": [
    "marks=int(input(\"Enter your marks : \"))\n",
    "if marks < 100 and marks >= 80:\n",
    "    print(\"u got a grade\")\n",
    "elif marks < 80 and marks >= 60:\n",
    "     print(\"u got b grade\")\n",
    "elif marks < 60 and marks >= 50:\n",
    "     print(\"u got c grade\")\n",
    "elif marks < 50 and marks >= 45:\n",
    "     print(\"u got d grade\")\n",
    "elif marks < 45 and marks >= 25:\n",
    "     print(\"u got e grade\")\n",
    "elif marks < 25 and marks >=0:\n",
    "    print(\"u are fail\")\n",
    "else:\n",
    "    print(\"invalid marks\")"
   ]
  },
  {
   "cell_type": "markdown",
   "id": "e8e454fb-e638-4260-bd2c-9dcc7bb1dd73",
   "metadata": {},
   "source": [
    "### 11. A student will not be allowed to sit in exam if his/her attendence is less than 75%.\n",
    "\n",
    "- Take following input from user\n",
    "- Number of classes held\n",
    "- Number of classes attended.\n",
    "- And print\n",
    "- percentage of class attended\n",
    "- Is student is allowed to sit in exam or not."
   ]
  },
  {
   "cell_type": "code",
   "execution_count": 42,
   "id": "42cd871f-4e84-4b84-8296-929dbace8db3",
   "metadata": {},
   "outputs": [
    {
     "name": "stdin",
     "output_type": "stream",
     "text": [
      "how many classes held:  100\n",
      "how many classes you attended:  20\n"
     ]
    },
    {
     "name": "stdout",
     "output_type": "stream",
     "text": [
      "your attendance is 20.0%\n",
      "you have 20.0% attendance\n",
      "you are not allowed to sit in exam\n"
     ]
    }
   ],
   "source": [
    "class_held = int(input(\"how many classes held: \"))\n",
    "class_attended = int(input(\"how many classes you attended: \"))\n",
    "percentage_classes = class_attended/class_held*100\n",
    "print(f\"your attendance is {percentage_classes}%\")\n",
    "\n",
    "if percentage_classes >= 75:\n",
    "    print(f\"you have {percentage_classes}% attendance\")\n",
    "    print(\"you are allowed to sit in exam\")\n",
    "else:\n",
    "    print(f\"you have {percentage_classes}% attendance\")\n",
    "    print(\"you are not allowed to sit in exam\")"
   ]
  },
  {
   "cell_type": "markdown",
   "id": "b7617fd9-7fb2-4573-89cc-57883f8b64a0",
   "metadata": {},
   "source": [
    "#### 12. Modify the above question to allow student to sit if he/she has medical cause. Ask user if he/she has medical cause or not ( 'Y' or 'N' ) and print accordingly."
   ]
  },
  {
   "cell_type": "code",
   "execution_count": 46,
   "id": "5870e30f-519f-4b1b-9bad-564f8e871fae",
   "metadata": {},
   "outputs": [
    {
     "name": "stdin",
     "output_type": "stream",
     "text": [
      "how many classes held:  100\n",
      "how many classes you attended:  70\n"
     ]
    },
    {
     "name": "stdout",
     "output_type": "stream",
     "text": [
      "your attendance is 70.0%\n"
     ]
    },
    {
     "name": "stdin",
     "output_type": "stream",
     "text": [
      "do u have a medical cause? (Y/N):  y\n"
     ]
    },
    {
     "name": "stdout",
     "output_type": "stream",
     "text": [
      "you are allowed to sit in exam due to medical cause\n"
     ]
    }
   ],
   "source": [
    "class_held = int(input(\"how many classes held: \"))\n",
    "class_attended = int(input(\"how many classes you attended: \"))\n",
    "percentage_classes = class_attended/class_held*100\n",
    "print(f\"your attendance is {percentage_classes}%\")\n",
    "medical_cause=input(\"do u have a medical cause? (Y/N): \")\n",
    "if percentage_classes >= 75:\n",
    "    print(f\"you have {percentage_classes}% attendance\")\n",
    "    print(\"you are allowed to sit in exam\")\n",
    "elif medical_cause.upper() == \"Y\":\n",
    "    print(\"you are allowed to sit in exam due to medical cause\")\n",
    "else:\n",
    "    print(f\"you have {percentage_classes}% attendance\")\n",
    "    print(\"you are not allowed to sit in exam\")"
   ]
  },
  {
   "cell_type": "markdown",
   "id": "e1cd20c7-1684-49e0-b9c2-4542b006a017",
   "metadata": {},
   "source": [
    "#### 13. Write a program to check if a year is leap year or not.\n",
    "If a year is divisible by 4 then it is leap year but if the year is century year like 2000, 1900, 2100 then it must be divisible by 400."
   ]
  },
  {
   "cell_type": "code",
   "execution_count": 53,
   "id": "965c3c9e-0a85-43be-8db7-63e0ad710140",
   "metadata": {},
   "outputs": [
    {
     "name": "stdin",
     "output_type": "stream",
     "text": [
      "Enter a Year :  2025\n"
     ]
    },
    {
     "name": "stdout",
     "output_type": "stream",
     "text": [
      "it is not leap year\n"
     ]
    }
   ],
   "source": [
    "year = int(input(\"Enter a Year : \"))\n",
    "if year % 4 == 0:\n",
    "    print(\"it is leap year\")\n",
    "elif year % 100 == 0:\n",
    "    print(\"it is not a leap year\")\n",
    "elif year % 400 == 0:\n",
    "    print(\"it is a leap year\")\n",
    "else:\n",
    "    print(\"it is not leap year\")"
   ]
  },
  {
   "cell_type": "markdown",
   "id": "24f5d483-647d-4e34-8ea7-6bd6cb7ddf1b",
   "metadata": {},
   "source": [
    "#### 14. Ask user to enter age, gender ( M or F ), marital status ( Y or N ) and then using following rules print their place of service.\n",
    "- if employee is female, then she will work only in urban areas.\n",
    "- if employee is a male and age is in between 20 to 40 then he may work in anywhere\n",
    "- if employee is male and age is in between 40 t0 60 then he will work in urban areas only.\n",
    "- And any other input of age should print \"ERROR\""
   ]
  },
  {
   "cell_type": "code",
   "execution_count": 64,
   "id": "4a9c98c0-1bdb-4ed8-9c6b-0f298df11e21",
   "metadata": {},
   "outputs": [
    {
     "name": "stdin",
     "output_type": "stream",
     "text": [
      "Enter your age :  45\n",
      " your gender? (M or F) :  m\n",
      "Marital status ? (Y or N) :  n\n"
     ]
    },
    {
     "name": "stdout",
     "output_type": "stream",
     "text": [
      "your age is 45 and you are male you will work in urban areas only\n"
     ]
    }
   ],
   "source": [
    "age=int(input(\"Enter your age : \"))\n",
    "gender=input(\" your gender? (M or F) : \")\n",
    "Marital_status=input(\"Marital status ? (Y or N) : \")\n",
    "\n",
    "if gender.upper() == \"F\":\n",
    "    print(\"you are female you will work in urban areas\")\n",
    "elif gender.upper() == \"M\"and age >=20 and age <40:\n",
    "    print(f\"your age is {age} and you are male you can work anywhere\")\n",
    "elif gender.upper() == \"M\"and age >=40 and age <=60:\n",
    "     print(f\"your age is {age} and you are male you will work in urban areas only\")\n",
    "else:\n",
    "    print(\"error\")"
   ]
  },
  {
   "cell_type": "markdown",
   "id": "e52ddbbd-5b15-4cc4-8caf-6aedd0ff60cf",
   "metadata": {},
   "source": [
    "#### 15. Write a program to calculate the electricity bill (accept number of unit from user) according to the following criteria : Unit Price\n",
    "upto 100 units no charge Next 200 units Rs 5 per unit After 200 units Rs 10 per unit (For example if input unit is 350 than total bill amount is Rs.3500 (For example if input unit is 97 than total bill amount is Rs.0 (For example if input unit is 150 than total bill amount is Rs.750"
   ]
  },
  {
   "cell_type": "code",
   "execution_count": 69,
   "id": "7fec6f63-0742-4e61-8968-863ea8fcadd4",
   "metadata": {},
   "outputs": [
    {
     "name": "stdin",
     "output_type": "stream",
     "text": [
      "enter your electricity units :  202\n"
     ]
    },
    {
     "name": "stdout",
     "output_type": "stream",
     "text": [
      "your unit is 202 and your bill amount is 2020\n"
     ]
    }
   ],
   "source": [
    "unit = int(input(\"enter your electricity units : \"))\n",
    "if unit <= 100:\n",
    "    print(f\"your unit is {unit} and your bill amount is 0\")\n",
    "elif unit > 100 and unit <=200:\n",
    "    after_100_unit=unit*5\n",
    "    print(f\"your unit is {unit} and your bill amount is {after_100_unit}\")\n",
    "elif unit > 200:\n",
    "     after_200_unit=unit*10\n",
    "     print(f\"your unit is {unit} and your bill amount is {after_200_unit}\")\n",
    "    "
   ]
  },
  {
   "cell_type": "markdown",
   "id": "a39cfc6b-9eae-4425-a3c5-0abd6953e096",
   "metadata": {},
   "source": [
    "#### 16. Take input of age of 3 people by user and determine oldest and youngest among them."
   ]
  },
  {
   "cell_type": "code",
   "execution_count": 84,
   "id": "26cf7611-12b3-4208-b20b-76fa4079c8e8",
   "metadata": {},
   "outputs": [
    {
     "name": "stdin",
     "output_type": "stream",
     "text": [
      "Enter your age ali :  30\n",
      "Enter your age faizan :  30\n",
      "Enter your age faiq :  30\n"
     ]
    },
    {
     "name": "stdout",
     "output_type": "stream",
     "text": [
      "no one is youngest and no one is oldest all are same age\n"
     ]
    }
   ],
   "source": [
    "ali_age=int(input(\"Enter your age ali : \"))\n",
    "faizan_age=int(input(\"Enter your age faizan : \"))\n",
    "faiq_age=int(input(\"Enter your age faiq : \"))\n",
    "\n",
    "\n",
    "if ali_age==faizan_age==faiq_age:\n",
    "    print(\"no one is youngest and no one is oldest all are same age\")\n",
    "else:\n",
    "\n",
    "    if ali_age > faizan_age and ali_age > faiq_age:\n",
    "        print(\"ali is oldest\",ali_age)\n",
    "    elif faizan_age > ali_age and faizan_age > faiq_age:\n",
    "        print(\"faizan is oldest\",faiza_age)                              \n",
    "    else:\n",
    "        print(\"faiq is oldest\",faiq_age)\n",
    "\n",
    "    if ali_age < faizan_age and ali_age < faiq_age:\n",
    "        print(\"ali is youngest\",ali_age)\n",
    "    elif faizan_age < ali_age and faizan_age < faiq_age:\n",
    "        print(\"faizan is youngest\",faizan_age)                                \n",
    "    else:\n",
    "        print(\"faiq is youngest\",faiq_age)\n"
   ]
  },
  {
   "cell_type": "code",
   "execution_count": null,
   "id": "254157d2-a4eb-42ed-8de4-dfb477b4e879",
   "metadata": {},
   "outputs": [],
   "source": [
    "max"
   ]
  }
 ],
 "metadata": {
  "kernelspec": {
   "display_name": "Python 3 (ipykernel)",
   "language": "python",
   "name": "python3"
  },
  "language_info": {
   "codemirror_mode": {
    "name": "ipython",
    "version": 3
   },
   "file_extension": ".py",
   "mimetype": "text/x-python",
   "name": "python",
   "nbconvert_exporter": "python",
   "pygments_lexer": "ipython3",
   "version": "3.13.5"
  }
 },
 "nbformat": 4,
 "nbformat_minor": 5
}
