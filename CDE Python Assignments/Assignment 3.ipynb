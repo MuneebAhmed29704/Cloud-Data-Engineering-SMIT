{
 "cells": [
  {
   "cell_type": "markdown",
   "id": "c6efe662-1963-437d-85a5-1989aa66052e",
   "metadata": {},
   "source": [
    "## Assignment 3:"
   ]
  },
  {
   "cell_type": "markdown",
   "id": "98e4aabd-81cc-43fd-80da-7a5b837fb50d",
   "metadata": {},
   "source": [
    "### Strings"
   ]
  },
  {
   "cell_type": "markdown",
   "id": "45709031-878c-4b6d-a635-044149131816",
   "metadata": {},
   "source": [
    "#### 1. Write a program that accepts a string from user.your program should count and display number of vowels in that string"
   ]
  },
  {
   "cell_type": "code",
   "execution_count": 3,
   "id": "dfd002ed-17ee-4beb-a4e2-061969a5dc73",
   "metadata": {},
   "outputs": [
    {
     "name": "stdin",
     "output_type": "stream",
     "text": [
      "what is your name? :  muneeb ahmed\n"
     ]
    },
    {
     "name": "stdout",
     "output_type": "stream",
     "text": [
      "vowels 5\n"
     ]
    }
   ],
   "source": [
    "user=input(\"what is your name? : \")\n",
    "vowels=\"aeiouAEIOU\"\n",
    "count=0\n",
    "for character in user:\n",
    "    if character in vowels:\n",
    "        count+=1\n",
    "\n",
    "print(\"vowels\",count)"
   ]
  },
  {
   "cell_type": "markdown",
   "id": "b24e6ebc-b522-47c2-a09a-6c1e2e842554",
   "metadata": {},
   "source": [
    "####  2. Write a program that reads a string from keyboard and display:\n",
    "* The number of uppercase letters in the string\n",
    "* The number of lowercase letters in the string\n",
    "* The number of digits in the string\n",
    "* The number of whitespace characters in the string"
   ]
  },
  {
   "cell_type": "code",
   "execution_count": 8,
   "id": "7ba9de24-1dc7-42f0-9112-2da9445a4e9a",
   "metadata": {},
   "outputs": [
    {
     "name": "stdin",
     "output_type": "stream",
     "text": [
      "Enter a string:  muneeb ahmed\n"
     ]
    },
    {
     "name": "stdout",
     "output_type": "stream",
     "text": [
      "Number of uppercase letters: 0\n",
      "Number of lowercase letters: 11\n",
      "Number of digits: 0\n",
      "Number of whitespace characters: 1\n"
     ]
    }
   ],
   "source": [
    "string = input(\"Enter a string: \")\n",
    "\n",
    "upper = 0\n",
    "lower = 0\n",
    "digits = 0\n",
    "spaces = 0\n",
    "\n",
    "for char in string:\n",
    "    if char.isupper():\n",
    "        upper += 1\n",
    "    elif char.islower():\n",
    "        lower += 1\n",
    "    elif char.isdigit():\n",
    "        digits += 1\n",
    "    elif char.isspace():\n",
    "        spaces += 1\n",
    "\n",
    "print(\"Number of uppercase letters:\", upper)\n",
    "print(\"Number of lowercase letters:\", lower)\n",
    "print(\"Number of digits:\", digits)\n",
    "print(\"Number of whitespace characters:\", spaces)"
   ]
  },
  {
   "cell_type": "markdown",
   "id": "cde2e68a-2b26-482f-a945-b1155377ec7d",
   "metadata": {},
   "source": [
    "#### 3. Write a Python program that accepts a string from user. Your program should create and display a new string where the first and last characters have been exchanged. \n",
    "For example if the user enters the string 'HELLO' then new string would be 'OELLH'"
   ]
  },
  {
   "cell_type": "code",
   "execution_count": 10,
   "id": "3cd6da1b-b701-489b-af12-7c166e667399",
   "metadata": {},
   "outputs": [
    {
     "name": "stdin",
     "output_type": "stream",
     "text": [
      "Enter a string:  muneeb\n"
     ]
    },
    {
     "name": "stdout",
     "output_type": "stream",
     "text": [
      "New string: buneem\n"
     ]
    }
   ],
   "source": [
    "text = input(\"Enter a string: \")\n",
    "\n",
    "if len(text) > 1:\n",
    "    new_text = text[-1] + text[1:-1] + text[0]\n",
    "else:\n",
    "    new_text = text \n",
    "\n",
    "print(\"New string:\", new_text)"
   ]
  },
  {
   "cell_type": "markdown",
   "id": "e0d386b7-0eda-4b13-84da-41917264e4f8",
   "metadata": {},
   "source": [
    "#### 4. Write a Python program that accepts a string from user. Your program should create a new string in reverse of first string and display it. \n"
   ]
  },
  {
   "cell_type": "code",
   "execution_count": 13,
   "id": "9d3dc836-01cf-4600-bb73-97ff88b4295f",
   "metadata": {},
   "outputs": [
    {
     "name": "stdin",
     "output_type": "stream",
     "text": [
      "Enter any string:  muneeb\n"
     ]
    },
    {
     "name": "stdout",
     "output_type": "stream",
     "text": [
      "string reverse beenum\n"
     ]
    }
   ],
   "source": [
    "text = input(\"Enter any string: \")\n",
    "reverse_text=text[::-1]\n",
    "print(\"string reverse\",reverse_text)"
   ]
  },
  {
   "cell_type": "markdown",
   "id": "35c34f2f-e57c-4834-8a02-020a3e845878",
   "metadata": {},
   "source": [
    "####    5. Write a Python program that accepts a string from user. Your program should create a new string by shifting one position to left.\n",
    "For example if the user enters the string 'examination 2021' then new string would be 'xamination\n",
    "2021e' \n"
   ]
  },
  {
   "cell_type": "code",
   "execution_count": 27,
   "id": "39eaedc9-4742-4cdf-a35a-c63694daf066",
   "metadata": {},
   "outputs": [
    {
     "name": "stdin",
     "output_type": "stream",
     "text": [
      "Enter a string:  20\n"
     ]
    },
    {
     "ename": "TypeError",
     "evalue": "'str' object is not callable",
     "output_type": "error",
     "traceback": [
      "\u001b[1;31m---------------------------------------------------------------------------\u001b[0m",
      "\u001b[1;31mTypeError\u001b[0m                                 Traceback (most recent call last)",
      "Cell \u001b[1;32mIn[27], line 8\u001b[0m\n\u001b[0;32m      5\u001b[0m \u001b[38;5;28;01melse\u001b[39;00m:\n\u001b[0;32m      6\u001b[0m     new_text \u001b[38;5;241m=\u001b[39m string2\n\u001b[1;32m----> 8\u001b[0m \u001b[38;5;28;43mprint\u001b[39;49m\u001b[43m(\u001b[49m\u001b[38;5;124;43m\"\u001b[39;49m\u001b[38;5;124;43mNew string:\u001b[39;49m\u001b[38;5;124;43m\"\u001b[39;49m\u001b[43m,\u001b[49m\u001b[43m \u001b[49m\u001b[43mnew_text\u001b[49m\u001b[43m)\u001b[49m\n",
      "\u001b[1;31mTypeError\u001b[0m: 'str' object is not callable"
     ]
    }
   ],
   "source": [
    "string2 = input(\"Enter a string: \")\n",
    "\n",
    "if len(string2) > 1:\n",
    "    new_text = string2[1:] + string2[0]\n",
    "else:\n",
    "    new_text = string2\n",
    "\n",
    "print(\"New string:\", new_text)"
   ]
  },
  {
   "cell_type": "markdown",
   "id": "7ec7684d-4e36-432d-b8c8-2d7b1aaea410",
   "metadata": {},
   "source": [
    "#### 6. Write a program that asks the user to input his name and print its initials. Assuming that the user always types first name, middle name and last name and does not include any unnecessary spaces.\n",
    "For example, if the user enters Ajay Kumar Garg the program should display A. K. G.\n",
    "Note:Don't use split() method"
   ]
  },
  {
   "cell_type": "code",
   "execution_count": 23,
   "id": "f217e284-3c5c-48a5-a32c-35fb9bacaf30",
   "metadata": {},
   "outputs": [
    {
     "name": "stdin",
     "output_type": "stream",
     "text": [
      "Enter your fisrt name :  muneeb\n",
      "Enter your middle name :  ahmed\n",
      "Enter your last name :  arain\n"
     ]
    },
    {
     "name": "stdout",
     "output_type": "stream",
     "text": [
      "M . A . A\n"
     ]
    }
   ],
   "source": [
    "f_name = input(\"Enter your fisrt name : \")\n",
    "m_name = input(\"Enter your middle name : \")\n",
    "l_name = input(\"Enter your last name : \")\n",
    "\n",
    "print(f_name[0].upper(),\".\",m_name[0].upper(),\".\",l_name[0].upper())\n",
    "\n",
    "\n",
    "            "
   ]
  },
  {
   "cell_type": "markdown",
   "id": "23508a6f-8144-407f-baab-975772b73cba",
   "metadata": {},
   "source": [
    "#### 7. A palindrome is a string that reads the same backward as forward. For example, the words dad, madam and radar are all palindromes. Write a programs that determines whether the string is a palindrome.\n",
    "Note: do not use reverse() method \n"
   ]
  },
  {
   "cell_type": "code",
   "execution_count": 30,
   "id": "e01650d6-2ebc-4553-b806-a32250af5017",
   "metadata": {},
   "outputs": [
    {
     "name": "stdin",
     "output_type": "stream",
     "text": [
      "Enter a string :  naman\n"
     ]
    },
    {
     "name": "stdout",
     "output_type": "stream",
     "text": [
      "your string is palindrome\n"
     ]
    }
   ],
   "source": [
    "string1=input(\"Enter a string : \")\n",
    "reversed_string=string[::-1]\n",
    "if string1 == reversed_string:\n",
    "    print(\"your string is palindrome\")\n",
    "else:\n",
    "    print(\"your string is not palindrome\")\n",
    "    "
   ]
  },
  {
   "cell_type": "markdown",
   "id": "94d1cf3c-8bf0-4a15-bd6b-797dea901f72",
   "metadata": {},
   "source": [
    "#### 8. Write a program that display following output:\n",
    "- SHIFT\n",
    "- HIFTS\n",
    "- IFTSH\n",
    "- FTSHI\n",
    "- TSHIF\n",
    "- SHIFT \n"
   ]
  },
  {
   "cell_type": "code",
   "execution_count": 33,
   "id": "140cd018-1228-444b-b4e3-29576fbadf9e",
   "metadata": {},
   "outputs": [
    {
     "name": "stdout",
     "output_type": "stream",
     "text": [
      "SHIFT\n",
      "HIFTS\n",
      "IFTSH\n",
      "FTSHI\n",
      "TSHIF\n",
      "SHIFT\n"
     ]
    }
   ],
   "source": [
    "string = \"SHIFT\"\n",
    "\n",
    "for i in range(len(string)):\n",
    "    new_string = string[i:] + string[:i]\n",
    "    print(new_string)\n",
    "\n",
    "print(string) "
   ]
  },
  {
   "cell_type": "markdown",
   "id": "82bcc1f0-f060-4c9e-bd1d-4c3e3ce2d79d",
   "metadata": {},
   "source": [
    "####  9. Write a program in python that accepts a string to setup a passwords. Your entered password must meet the following requirements: \n",
    "- The password must be at least eight characters long.\n",
    "- It must contain at least one uppercase letter.\n",
    "- It must contain at least one lowercase letter.\n",
    "- It must contain at least one numeric digit.\n",
    "- Your program should perform this validation. "
   ]
  },
  {
   "cell_type": "code",
   "execution_count": 37,
   "id": "0b241fa7-61f4-42fb-94ba-75143517c7cc",
   "metadata": {},
   "outputs": [
    {
     "name": "stdin",
     "output_type": "stream",
     "text": [
      "Enter your password:  muneebahmed\n"
     ]
    },
    {
     "name": "stdout",
     "output_type": "stream",
     "text": [
      "Invalid: no uppercase letter\n"
     ]
    }
   ],
   "source": [
    "password=input(\"Enter your password: \")\n",
    "\n",
    "if len(password) < 8:\n",
    "    print(\"Invalid: less than 8 characters\")\n",
    "elif password.islower():\n",
    "    print(\"Invalid: no uppercase letter\")\n",
    "elif password.isupper():\n",
    "    print(\"Invalid: no lowercase letter\")\n",
    "elif password.isalpha():\n",
    "    print(\"Invalid: no number\")\n",
    "else:\n",
    "    print(\"Password is valid!\")\n"
   ]
  },
  {
   "cell_type": "code",
   "execution_count": null,
   "id": "397cffab-b260-447e-9f42-b31a67b1b915",
   "metadata": {},
   "outputs": [],
   "source": []
  }
 ],
 "metadata": {
  "kernelspec": {
   "display_name": "Python 3 (ipykernel)",
   "language": "python",
   "name": "python3"
  },
  "language_info": {
   "codemirror_mode": {
    "name": "ipython",
    "version": 3
   },
   "file_extension": ".py",
   "mimetype": "text/x-python",
   "name": "python",
   "nbconvert_exporter": "python",
   "pygments_lexer": "ipython3",
   "version": "3.13.5"
  }
 },
 "nbformat": 4,
 "nbformat_minor": 5
}
