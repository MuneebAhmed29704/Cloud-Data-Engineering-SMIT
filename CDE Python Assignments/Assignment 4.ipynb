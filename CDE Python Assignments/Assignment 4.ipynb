{
 "cells": [
  {
   "cell_type": "markdown",
   "id": "9cb70fd7-4a21-4d00-a42d-133afed1d032",
   "metadata": {},
   "source": [
    "## Lists"
   ]
  },
  {
   "cell_type": "markdown",
   "id": "17bd1a6d-00d4-428c-941a-0cac7e328f6f",
   "metadata": {},
   "source": [
    "#### 1. Write a program that accepts a list from user and print the alternate element of list. "
   ]
  },
  {
   "cell_type": "code",
   "execution_count": 7,
   "id": "2d8fa520-95cd-4c49-ae6c-ddebc4376b43",
   "metadata": {},
   "outputs": [
    {
     "name": "stdin",
     "output_type": "stream",
     "text": [
      "Enter any element:  Muneeb\n"
     ]
    },
    {
     "name": "stdout",
     "output_type": "stream",
     "text": [
      "Alternate elements are:\n",
      "M\n",
      "n\n",
      "e\n"
     ]
    }
   ],
   "source": [
    "user_list = input(\"Enter any element: \")\n",
    "print(\"Alternate elements are:\")\n",
    "for i in range(0, len(user_list), 2):\n",
    "    print(user_list[i])"
   ]
  },
  {
   "cell_type": "markdown",
   "id": "097e3112-c7ec-4c2d-842f-59751cb7fc29",
   "metadata": {},
   "source": [
    "#### 2. Write a program that accepts a list from user. Your program should reverse the content of list and display it. Do not use reverse() method."
   ]
  },
  {
   "cell_type": "code",
   "execution_count": 8,
   "id": "d811245e-b361-4406-862e-d2c003b6678c",
   "metadata": {},
   "outputs": [
    {
     "name": "stdin",
     "output_type": "stream",
     "text": [
      "Enter any element:  Muneeb Ahmed\n"
     ]
    },
    {
     "name": "stdout",
     "output_type": "stream",
     "text": [
      "reversed list ['Ahmed', 'Muneeb']\n"
     ]
    }
   ],
   "source": [
    "user_list = input(\"Enter any element: \").split()\n",
    "reverse_list = user_list[::-1]\n",
    "\n",
    "print(\"reversed list\",reverse_list)"
   ]
  },
  {
   "cell_type": "markdown",
   "id": "d99ac8c7-0815-42a6-8dab-7cc1a84fcc20",
   "metadata": {},
   "source": [
    "####  3. Find and display the largest number of a list without using built-in function max(). Your program should ask the user to input values in list from keyboard. \n"
   ]
  },
  {
   "cell_type": "code",
   "execution_count": 12,
   "id": "b8e6e9e9-4c51-4783-9377-335034c6946d",
   "metadata": {},
   "outputs": [
    {
     "name": "stdin",
     "output_type": "stream",
     "text": [
      "Enter numbers:  10 20 30\n"
     ]
    },
    {
     "name": "stdout",
     "output_type": "stream",
     "text": [
      "Largest number: 30\n"
     ]
    }
   ],
   "source": [
    "nums = input(\"Enter numbers: \").split()\n",
    "\n",
    "largest = int(nums[0])\n",
    "\n",
    "for n in nums:\n",
    "    if int(n) > largest:\n",
    "        largest = int(n)\n",
    "\n",
    "print(\"Largest number:\", largest)"
   ]
  },
  {
   "cell_type": "markdown",
   "id": "1322186f-61df-46f4-9f11-45c81b5ef390",
   "metadata": {},
   "source": [
    "#### 4. Write a program that rotates the element of a list so that the element at the first index moves to the second index, the element in the second index moves to the third index, etc., and the element in the last index moves to the first index. "
   ]
  },
  {
   "cell_type": "code",
   "execution_count": 14,
   "id": "fc85dbd4-ad7d-45cb-8433-0726e0dc9dc3",
   "metadata": {},
   "outputs": [
    {
     "name": "stdin",
     "output_type": "stream",
     "text": [
      "Enter elements separated by space:  m u n e e b\n"
     ]
    },
    {
     "name": "stdout",
     "output_type": "stream",
     "text": [
      "Rotated List: ['b', 'm', 'u', 'n', 'e', 'e']\n"
     ]
    }
   ],
   "source": [
    "nums = input(\"Enter elements separated by space: \").split()\n",
    "rotated = [nums[-1]] + nums[:-1]\n",
    "print(\"Rotated List:\", rotated)"
   ]
  },
  {
   "cell_type": "markdown",
   "id": "f8fa3c7a-7515-4f43-8f06-f3f1cfeabeb7",
   "metadata": {},
   "source": [
    "#### 5. Write a program that input a string and ask user to delete a given word from a string. \n"
   ]
  },
  {
   "cell_type": "code",
   "execution_count": 1,
   "id": "a78b00b2-b6c3-46ed-888a-33b9a4d11f67",
   "metadata": {},
   "outputs": [
    {
     "name": "stdin",
     "output_type": "stream",
     "text": [
      "Enter a string:  Muneeb Ahmed\n",
      "Enter the word you want to delete:  Muneeb\n"
     ]
    },
    {
     "name": "stdout",
     "output_type": "stream",
     "text": [
      "String after deleting word:  Ahmed\n"
     ]
    }
   ],
   "source": [
    "text = input(\"Enter a string: \")\n",
    "word_to_delete = input(\"Enter the word you want to delete: \")\n",
    "new_text = text.replace(word_to_delete, \"\")\n",
    "print(\"String after deleting word:\", new_text)"
   ]
  },
  {
   "cell_type": "markdown",
   "id": "551efab4-92e5-474d-8676-05c7c5085188",
   "metadata": {},
   "source": [
    "####  6. Write a program that reads a string from the user containing a date in the form mm/dd/yyyy. It should print the date in the form March 12, 2021. "
   ]
  },
  {
   "cell_type": "code",
   "execution_count": 2,
   "id": "d21f0185-bdf1-4408-b4a3-f8c54ef784c9",
   "metadata": {},
   "outputs": [
    {
     "name": "stdin",
     "output_type": "stream",
     "text": [
      "Enter date in mm/dd/yyyy format:  07/29/2004\n"
     ]
    },
    {
     "name": "stdout",
     "output_type": "stream",
     "text": [
      "July 29, 2004\n"
     ]
    }
   ],
   "source": [
    "date = input(\"Enter date in mm/dd/yyyy format: \")\n",
    "\n",
    "month, day, year = date.split('/')\n",
    "months = [\"January\", \"February\", \"March\", \"April\", \"May\", \"June\",\n",
    "          \"July\", \"August\", \"September\", \"October\", \"November\", \"December\"]\n",
    "month_name = months[int(month) - 1]\n",
    "print(f\"{month_name} {int(day)}, {year}\")"
   ]
  },
  {
   "cell_type": "markdown",
   "id": "8e41c879-43d7-472a-ba43-2e449b35665c",
   "metadata": {},
   "source": [
    "#### 7. Write a program with a function that accepts a string from keyboard and create a new string after converting character of each word capitalized. For instance, if the sentence is \"stop and smell the roses.\" the output should be \"Stop And Smell The Roses\" "
   ]
  },
  {
   "cell_type": "code",
   "execution_count": 3,
   "id": "3caf10cb-3c4e-4801-9455-b425f97a936f",
   "metadata": {},
   "outputs": [
    {
     "name": "stdin",
     "output_type": "stream",
     "text": [
      "Enter any sentence i am muneeb\n"
     ]
    },
    {
     "name": "stdout",
     "output_type": "stream",
     "text": [
      "converted_string I Am Muneeb\n"
     ]
    }
   ],
   "source": [
    "def capitalize_words(sentence):\n",
    "    return sentence.title()\n",
    "\n",
    "text = input(\"Enter any sentence\")\n",
    "new_sentence = capitalize_words(text)\n",
    "print(\"converted_string\",new_sentence)\n",
    "    "
   ]
  },
  {
   "cell_type": "markdown",
   "id": "ac7aad76-15fe-4e2e-8944-c586a6ee093f",
   "metadata": {},
   "source": [
    "#### 8. Find the sum of each row of matrix of size m x n. For example for the following matrix output will be like this :\n",
    "\n",
    "- Sum of row 1 = 32\n",
    "- Sum of row 2 = 31\n",
    "- Sum of row 3 = 63"
   ]
  },
  {
   "cell_type": "code",
   "execution_count": 5,
   "id": "7961a01c-4360-4a11-8985-f065baf18941",
   "metadata": {},
   "outputs": [
    {
     "name": "stdout",
     "output_type": "stream",
     "text": [
      "Sum of row 1 = 32\n",
      "Sum of row 2 = 31\n",
      "Sum of row 3 = 63\n"
     ]
    }
   ],
   "source": [
    "matrix = [\n",
    "    [2, 11, 7, 12],\n",
    "    [5, 2, 9, 15],\n",
    "    [8, 3, 10, 42]\n",
    "]\n",
    "\n",
    "for i in range(len(matrix)):\n",
    "    print(\"Sum of row\", i+1, \"=\", sum(matrix[i]))"
   ]
  },
  {
   "cell_type": "markdown",
   "id": "172ca037-9cfa-4c5a-b9b5-75793c71999a",
   "metadata": {},
   "source": [
    "#### 9. Write a program to add two matrices of size n x m. "
   ]
  },
  {
   "cell_type": "code",
   "execution_count": 6,
   "id": "619c349a-88df-4377-a3bf-bb69ede26195",
   "metadata": {},
   "outputs": [
    {
     "name": "stdout",
     "output_type": "stream",
     "text": [
      "8 10 12 \n",
      "5 7 9 \n"
     ]
    }
   ],
   "source": [
    "A = [\n",
    "    [1, 2, 3],\n",
    "    [4, 5, 6]\n",
    "]\n",
    "\n",
    "B = [\n",
    "    [7, 8, 9],\n",
    "    [1, 2, 3]\n",
    "]\n",
    "\n",
    "for i in range(len(A)):\n",
    "    for j in range(len(A[0])):\n",
    "        print(A[i][j] + B[i][j], end=\" \")\n",
    "    print()"
   ]
  },
  {
   "cell_type": "markdown",
   "id": "3e8608f5-04bf-4199-af20-9a21a97899e2",
   "metadata": {},
   "source": [
    "#### 10. Write a program to multiply two matrices "
   ]
  },
  {
   "cell_type": "code",
   "execution_count": 7,
   "id": "a86c5330-a589-4e09-8d92-e22fea4eccda",
   "metadata": {},
   "outputs": [
    {
     "name": "stdout",
     "output_type": "stream",
     "text": [
      "58 64 \n",
      "139 154 \n"
     ]
    }
   ],
   "source": [
    "A = [\n",
    "    [1, 2, 3],\n",
    "    [4, 5, 6]\n",
    "]\n",
    "B = [\n",
    "    [7, 8],\n",
    "    [9, 10],\n",
    "    [11, 12]\n",
    "]\n",
    "for i in range(len(A)):\n",
    "    for j in range(len(B[0])):\n",
    "        s = 0\n",
    "        for k in range(len(B)):\n",
    "            s += A[i][k] * B[k][j]\n",
    "        print(s, end=\" \")\n",
    "    print()"
   ]
  },
  {
   "cell_type": "code",
   "execution_count": null,
   "id": "36c2bb1a-ae1e-4ad8-a7f0-6d8f0f199991",
   "metadata": {},
   "outputs": [],
   "source": []
  }
 ],
 "metadata": {
  "kernelspec": {
   "display_name": "Python 3 (ipykernel)",
   "language": "python",
   "name": "python3"
  },
  "language_info": {
   "codemirror_mode": {
    "name": "ipython",
    "version": 3
   },
   "file_extension": ".py",
   "mimetype": "text/x-python",
   "name": "python",
   "nbconvert_exporter": "python",
   "pygments_lexer": "ipython3",
   "version": "3.13.5"
  }
 },
 "nbformat": 4,
 "nbformat_minor": 5
}
