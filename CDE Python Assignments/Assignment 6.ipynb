{
 "cells": [
  {
   "cell_type": "markdown",
   "id": "60c69e83-545d-472d-a777-a48eabf53ca6",
   "metadata": {},
   "source": [
    "## Classes"
   ]
  },
  {
   "cell_type": "markdown",
   "id": "7d79fe18-38f9-4b9f-a1ea-efd89e13785e",
   "metadata": {},
   "source": [
    "### 1. Write a Python program to create a class representing a Circle. Include methods to calculate its area and perimeter."
   ]
  },
  {
   "cell_type": "code",
   "execution_count": null,
   "id": "84afa2cc-926b-413d-986d-42a121f3d3a6",
   "metadata": {},
   "outputs": [],
   "source": [
    "class circle():\n",
    "    def __init__(self,radius):\n",
    "        self.radius=radius\n",
    "    def area(self):\n",
    "        return 3.14*self.radius*self.radius\n",
    "    def parimeter(self):\n",
    "        return 2*3.14*self.radius\n",
    "\n",
    "inp = float(input(\"Enter Radius: \"))\n",
    "obj = circle(inp)\n",
    "\n",
    "print(\"Area: \", obj.area())\n",
    "print(\"Parimeter: \", obj.parimeter())\n",
    "\n",
    "    \n",
    "        "
   ]
  },
  {
   "cell_type": "markdown",
   "id": "4db86e0f-fe1a-4ebd-9511-ee0179c9691f",
   "metadata": {},
   "source": [
    "### 2. Write a Python program to create a person class. Include attributes like name, country and date of birth. Implement a method to determine the person's age."
   ]
  },
  {
   "cell_type": "code",
   "execution_count": 18,
   "id": "917d57c3-f6d8-45dd-8418-c2e9209efbdf",
   "metadata": {},
   "outputs": [
    {
     "name": "stdin",
     "output_type": "stream",
     "text": [
      "Enter a current Year:  2025\n"
     ]
    },
    {
     "name": "stdout",
     "output_type": "stream",
     "text": [
      "Name:  muneeb\n",
      "Country:  pakistan\n",
      "Date of Birth:  29 9 2004\n",
      "age:  21\n"
     ]
    }
   ],
   "source": [
    "class person():\n",
    "    def __init__ (self,name,country,birth_date,birth_month,birth_year):\n",
    "        self.name = name\n",
    "        self.country = country\n",
    "        self.birth_date = birth_date\n",
    "        self.birth_month = birth_month\n",
    "        self.birth_year = birth_year\n",
    "    def age (self,current_year):\n",
    "        return current_year - self.birth_year\n",
    "\n",
    "person1 = person(\"muneeb\",\"pakistan\",29,9,2004)\n",
    "current_year = int(input(\"Enter a current Year: \"))\n",
    "print(\"Name: \" , person1.name)\n",
    "print(\"Country: \" , person1.country)\n",
    "print(\"Date of Birth: \" , person1.birth_date,person1.birth_month,person1.birth_year)\n",
    "print(\"age: \" , person1.age(current_year))\n",
    "        "
   ]
  },
  {
   "cell_type": "markdown",
   "id": "5253db1e-0172-493b-bb76-18eabe93c312",
   "metadata": {},
   "source": [
    "### 3.Write a Python program to create a calculator class. Include methods for basic arithmetic operations."
   ]
  },
  {
   "cell_type": "code",
   "execution_count": 44,
   "id": "2839f49b-da46-4a16-959c-916c42c14d0e",
   "metadata": {},
   "outputs": [
    {
     "name": "stdout",
     "output_type": "stream",
     "text": [
      "Addition:  9\n",
      "Subtraction:  9\n",
      "Divison:  0.8\n",
      "Multiplication:  20\n"
     ]
    }
   ],
   "source": [
    "class calculator():\n",
    "    def __init__(self,numb1,numb2):\n",
    "        self.numb1 = numb1\n",
    "        self.numb2 = numb2\n",
    "    \n",
    "    def addition(self):\n",
    "       return self.numb1 + self.numb2\n",
    "    def subtraction(self):\n",
    "       return self.numb1 - self.numb2\n",
    "    def division(self):\n",
    "       return self.numb1 / self.numb2\n",
    "    def multiplication(self):\n",
    "        return self.numb1 * self.numb2\n",
    "\n",
    "calc = calculator(4,5)\n",
    "\n",
    "print(\"Addition: \" , calc.addition())\n",
    "print(\"Subtraction: \" , calc.addition())\n",
    "print(\"Divison: \" , calc.division())\n",
    "print(\"Multiplication: \" , calc.multiplication())\n"
   ]
  },
  {
   "cell_type": "code",
   "execution_count": null,
   "id": "5505543d-7a0b-4cf1-970a-688ba97a403e",
   "metadata": {},
   "outputs": [],
   "source": []
  }
 ],
 "metadata": {
  "kernelspec": {
   "display_name": "Python 3 (ipykernel)",
   "language": "python",
   "name": "python3"
  },
  "language_info": {
   "codemirror_mode": {
    "name": "ipython",
    "version": 3
   },
   "file_extension": ".py",
   "mimetype": "text/x-python",
   "name": "python",
   "nbconvert_exporter": "python",
   "pygments_lexer": "ipython3",
   "version": "3.13.5"
  }
 },
 "nbformat": 4,
 "nbformat_minor": 5
}
